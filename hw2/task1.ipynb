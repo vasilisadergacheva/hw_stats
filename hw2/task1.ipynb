{
 "cells": [
  {
   "cell_type": "code",
   "execution_count": 1,
   "metadata": {},
   "outputs": [],
   "source": [
    "import math\n",
    "import numpy as np\n",
    "from numpy import array\n",
    "from scipy.stats import t"
   ]
  },
  {
   "cell_type": "code",
   "execution_count": 2,
   "metadata": {},
   "outputs": [],
   "source": [
    "def estimate(x, y):\n",
    "    \"\"\"Оценка beta\"\"\"\n",
    "    beta_1 = np.sum(np.multiply(x - np.mean(x), y - np.mean(y))) / np.sum(\n",
    "        np.square(x - np.mean(x))\n",
    "    )\n",
    "    beta_0 = np.mean(y) - beta_1 * np.mean(x)\n",
    "    return float(beta_0), float(beta_1)\n",
    "\n",
    "\n",
    "def error(x, y, beta):\n",
    "    \"\"\"Ошибка\"\"\"\n",
    "    return y - (beta[0] + beta[1] * x)"
   ]
  },
  {
   "cell_type": "code",
   "execution_count": 3,
   "metadata": {},
   "outputs": [],
   "source": [
    "x = array([18, 23, 25, 35, 65, 54, 34, 56, 72, 19, 23, 42, 18, 39, 37])\n",
    "y = array([202, 186, 187, 180, 156, 169, 174, 172, 153, 199, 193, 174, 198, 183, 178])\n",
    "n = len(x)"
   ]
  },
  {
   "cell_type": "markdown",
   "metadata": {},
   "source": [
    "Получим оценку beta"
   ]
  },
  {
   "cell_type": "code",
   "execution_count": 4,
   "metadata": {},
   "outputs": [
    {
     "name": "stdout",
     "output_type": "stream",
     "text": [
      "(210.04845842416694, -0.7977265649330426)\n"
     ]
    }
   ],
   "source": [
    "beta = estimate(x, y)\n",
    "print(beta)"
   ]
  },
  {
   "cell_type": "markdown",
   "metadata": {},
   "source": [
    "Теперь получим оценки стандартного отклонения"
   ]
  },
  {
   "cell_type": "code",
   "execution_count": 5,
   "metadata": {},
   "outputs": [],
   "source": [
    "ssr = np.sum(np.square(error(x, y, beta)))\n",
    "sd_eps = math.sqrt(ssr / (n - 2))\n",
    "sd_beta_1 = sd_eps / math.sqrt(np.sum(np.square(x - np.mean(x))))\n",
    "sd_beta_0 = sd_beta_1 * math.sqrt(np.sum(np.square(x)) / n)\n",
    "sd_beta = (sd_beta_0, sd_beta_1)"
   ]
  },
  {
   "cell_type": "markdown",
   "metadata": {},
   "source": [
    "Упражнения"
   ]
  },
  {
   "cell_type": "code",
   "execution_count": 6,
   "metadata": {},
   "outputs": [],
   "source": [
    "def ttest(tvalue, side=\"two-sided\"):\n",
    "    global n\n",
    "\n",
    "    print(f\"tvalue: {tvalue}\")\n",
    "\n",
    "    if side == \"two-sided\":\n",
    "        pvalue = 2 * t.cdf(-1 * abs(tvalue), n - 2)\n",
    "    elif side == \"left-sided\":\n",
    "        pvalue = t.cdf(tvalue, n - 2)\n",
    "    else:\n",
    "        pvalue = 1 - t.cdf(tvalue, n - 2)\n",
    "\n",
    "    print(f\"pvalue: {pvalue}\")\n",
    "\n",
    "    if pvalue > 0.05:\n",
    "        print(\"нулевая гипотеза принимается\")\n",
    "    else:\n",
    "        print(\"нулевая гипотеза отвергается\")"
   ]
  },
  {
   "cell_type": "markdown",
   "metadata": {},
   "source": [
    "Для сверки"
   ]
  },
  {
   "cell_type": "code",
   "execution_count": 7,
   "metadata": {},
   "outputs": [
    {
     "name": "stdout",
     "output_type": "stream",
     "text": [
      "tvalue: -11.402151995358428\n",
      "pvalue: 3.847986535950365e-08\n",
      "нулевая гипотеза отвергается\n"
     ]
    }
   ],
   "source": [
    "ttest((beta[1] - 0) / sd_beta[1])"
   ]
  },
  {
   "cell_type": "markdown",
   "metadata": {},
   "source": [
    "Упражнение 1"
   ]
  },
  {
   "cell_type": "code",
   "execution_count": 8,
   "metadata": {},
   "outputs": [
    {
     "name": "stdout",
     "output_type": "stream",
     "text": [
      "tvalue: 2.891156635168964\n",
      "pvalue: 0.012620313389537539\n",
      "нулевая гипотеза отвергается\n"
     ]
    }
   ],
   "source": [
    "ttest((beta[1] + 1) / sd_beta[1])"
   ]
  },
  {
   "cell_type": "markdown",
   "metadata": {},
   "source": [
    "pvalue больше, но все же меньше порога"
   ]
  },
  {
   "cell_type": "markdown",
   "metadata": {},
   "source": [
    "Упражнение 2"
   ]
  },
  {
   "cell_type": "code",
   "execution_count": 9,
   "metadata": {},
   "outputs": [
    {
     "name": "stdout",
     "output_type": "stream",
     "text": [
      "tvalue: -3.4711383224520627\n",
      "pvalue: 0.002068421608727663\n",
      "нулевая гипотеза отвергается\n"
     ]
    }
   ],
   "source": [
    "ttest((beta[0] - 220) / sd_beta[0], side=\"left-sided\")"
   ]
  }
 ],
 "metadata": {
  "kernelspec": {
   "display_name": ".venv",
   "language": "python",
   "name": "python3"
  },
  "language_info": {
   "codemirror_mode": {
    "name": "ipython",
    "version": 3
   },
   "file_extension": ".py",
   "mimetype": "text/x-python",
   "name": "python",
   "nbconvert_exporter": "python",
   "pygments_lexer": "ipython3",
   "version": "3.12.3"
  }
 },
 "nbformat": 4,
 "nbformat_minor": 2
}
